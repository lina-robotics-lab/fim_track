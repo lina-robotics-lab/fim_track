{
 "cells": [
  {
   "cell_type": "code",
   "execution_count": 1,
   "metadata": {},
   "outputs": [],
   "source": [
    "import numpy as np\n",
    "from matplotlib import pyplot as plt\n",
    "\n",
    "import pickle as pkl\n",
    "from matplotlib import style\n",
    "import networkx as nx\n",
    "\n",
    "\n",
    "from FormationControl import formation_control_force\n",
    "from GradientEstimation import total_grad_est\n",
    "\n",
    "style.use('fivethirtyeight')\n",
    "\n",
    "%load_ext autoreload\n",
    "%autoreload 2"
   ]
  },
  {
   "cell_type": "code",
   "execution_count": 2,
   "metadata": {},
   "outputs": [],
   "source": [
    "def circulant(i,q,p,prev,post,undirected=False):\n",
    "    \"\"\"\n",
    "        Generate a circulant graph with len(p) nodes, node i connected with [i-prev:i+post],i-prev and i+post included but self-loop eliminated.\n",
    "    \"\"\"\n",
    "    n = len(p)\n",
    "    G = nx.DiGraph()\n",
    "    edges = [(j%n,i) for i in range(n) for j in range(i-prev,i+post+1)]\n",
    "    G.add_edges_from(edges)\n",
    "    G.remove_edges_from(nx.selfloop_edges(G))\n",
    "    if undirected:\n",
    "        G = G.to_undirected()\n",
    "    return G\n",
    "def fc_comm_network(i,qs,ps):\n",
    "    \"\"\"\n",
    "        Given the iteration number i, source location qs, sensor location ps,\n",
    "        return the current communication network G.\n",
    "        \n",
    "        This variation returns a fully connected network with number of nodes=len(ps),\n",
    "        without self-loops.\n",
    "    \"\"\"\n",
    "    A = np.ones([len(ps),len(ps)])-np.eye(len(ps))\n",
    "    return nx.from_numpy_matrix(A,create_using=nx.DiGraph)"
   ]
  },
  {
   "cell_type": "markdown",
   "metadata": {},
   "source": [
    "## Distributed Version of Gradient Est., written in vectorized form."
   ]
  },
  {
   "cell_type": "code",
   "execution_count": 3,
   "metadata": {},
   "outputs": [],
   "source": [
    "class VirtualSensor:\n",
    "    def __init__(self,C1,C0,k,b,noise_std = 0.01):\n",
    "        self._C1 = C1\n",
    "        self._C0 = C0\n",
    "        self._k = k\n",
    "        self._b = b\n",
    "        self._sig = noise_std\n",
    "        self._min_read = 1e-5\n",
    "\n",
    "        \n",
    "    def measurement(self,q,p):\n",
    "        dists=np.linalg.norm(q-p,axis=1)\n",
    "        \n",
    "        y = self._k*(dists-self._C1)**self._b\\\n",
    "        +self._C0 + np.random.randn(dists.shape[0])*self._sig\n",
    "        \n",
    "        return np.max([self._min_read*np.ones(len(y)),y],axis=0)"
   ]
  },
  {
   "cell_type": "markdown",
   "metadata": {},
   "source": [
    "# Distributed Sensor Movement Controller"
   ]
  },
  {
   "cell_type": "code",
   "execution_count": 4,
   "metadata": {},
   "outputs": [],
   "source": [
    "class GradientEstimateController:\n",
    "    \n",
    "    def __init__(self,n_virtual_leaders,self_loc):\n",
    "       \n",
    "        self.vl_locs = None\n",
    "        self.vl_vels = None\n",
    "        \n",
    "        self.loc = self_loc\n",
    "        \n",
    "        self.vel = np.zeros(self.loc.shape)\n",
    "        \n",
    "        alpha = 0.1 # The overall strength of the control force/potential\n",
    "        k=1 # Determines how quickly the potential dies down to 0, in the order of 1/r^k.\n",
    "        d0 = 0.8 # The equilibrium distance between sensors/virtual leaders.\n",
    "        d1=100 # The distance above which the influence between sensors vanishes to 0.\n",
    "        kD=0.2 # Dampening term on the sensor velocity, to achieve asymptotic stability.\n",
    "        max_force=0.5 # A cap on the control force, to avoid pathological behavior.\n",
    "        \n",
    "        self.control_force = lambda robot_locs,robot_vels:formation_control_force(robot_locs,robot_vels,alpha,k,d0,d1,kD,max_force)\n",
    "\n",
    "        self.max_vl_vel = 0.3\n",
    "\n",
    "        self.min_vl_vel = 0.2\n",
    "        \n",
    "    def initialize_vl(self,initial_locs):\n",
    "        CoM = np.mean(initial_locs,axis=0)\n",
    "\n",
    "        ## Set up virtual leaders. Required for sensors' motion control.\n",
    "        # Create a circular formation of virtual leaders centered at the CoM of mobile sensors, with one virtual leader at the CoM of the sensors.\n",
    "\n",
    "        n_virtual_leaders = 1 # Only 1 virtual leader gives a much stabler formation than other # of virtual leaders.\n",
    "\n",
    "        R0 = 0.8 # If there are more than 1 virtual leaders, this specifies the distance between them.\n",
    "\n",
    "        if n_virtual_leaders>1:\n",
    "            thetas = [2*np.pi/(n_virtual_leaders-1)*i for i in range(n_virtual_leaders-1)]\n",
    "            self.vl_locs = np.vstack([CoM,CoM+ R0*np.array(np.vstack([np.cos(thetas),np.sin(thetas)]).T)])\n",
    "        else:\n",
    "            self.vl_locs = np.array([CoM])\n",
    "        \n",
    "        self.vl_vels = np.zeros(self.vl_locs.shape)\n",
    "    \n",
    "        \n",
    "    def update(self,grad,neighbor_loc,neighbor_vel):\n",
    "        \n",
    "        if self.vl_locs is None:\n",
    "            self.initialize_vl(np.vstack([self.loc,neighbor_loc]))\n",
    "            \n",
    "        grad_mag = np.linalg.norm(grad)\n",
    "\n",
    "        if grad_mag>self.max_vl_vel: # Cap the magnitude of gradient update by max_vl_vel. This slows down the virtual leader and allows the sensors to stabilize.\n",
    "            grad=grad/grad_mag * self.max_vl_vel\n",
    "        elif grad_mag<self.min_vl_vel: # This keeps the virtual leader to move at a reasonable speed when the gradient is small.\n",
    "            grad=grad/grad_mag * self.min_vl_vel\n",
    "        \n",
    "        self.vl_locs += grad\n",
    "        \n",
    "        vl_states = np.array([self.vl_locs,self.vl_vels])\n",
    "        sensor_states = np.hstack([neighbor_loc,neighbor_vel])\n",
    "        \n",
    "        robot_locs = np.vstack([self.vl_locs,self.loc,neighbor_loc])\n",
    "        robot_vels = np.vstack([self.vl_vels,self.vel,neighbor_vel])\n",
    "        \n",
    "        f = self.control_force(robot_locs,robot_vels)\n",
    "        \n",
    "        f_m = f[len(self.vl_locs)]\n",
    "        \n",
    "        self.vel -= f_m\n",
    "        self.loc += self.vel\n",
    "\n",
    "        return self.loc\n",
    "        \n",
    "        \n",
    "  \n",
    "        "
   ]
  },
  {
   "cell_type": "code",
   "execution_count": null,
   "metadata": {},
   "outputs": [
    {
     "name": "stdout",
     "output_type": "stream",
     "text": [
      "N_sen 40\n"
     ]
    },
    {
     "name": "stderr",
     "output_type": "stream",
     "text": [
      "<ipython-input-4-bb64f67aabc1>:54: RuntimeWarning: invalid value encountered in true_divide\n",
      "  grad=grad/grad_mag * self.min_vl_vel\n"
     ]
    }
   ],
   "source": [
    "def get_adj_list(q,ps,G):\n",
    "    a_list = []\n",
    "    for i in G.nodes():\n",
    "        a_list.append([k for k in G[i]])\n",
    "    a_list = np.array(a_list)\n",
    "    \n",
    "    return a_list\n",
    "\n",
    "N_iter = 100\n",
    "N_trials = 100\n",
    "C1=-0.3 # Setting C1 as a negative number mitigates the blowing-up effect when the sensors are close to the source.\n",
    "C0=0\n",
    "k=1\n",
    "b=-2\n",
    "\n",
    "\n",
    "vs = VirtualSensor(C1,C0,k,b)\n",
    "\n",
    "\n",
    "# for N_sen in [5,10,20,50]:\n",
    "\n",
    "for N_sen in [40]:\n",
    "    data = {'p':[],'q':[]}\n",
    "    print('N_sen',N_sen)\n",
    "    for k in range(N_trials):\n",
    "        ps = np.random.rand(N_sen,2)\n",
    "        vel = np.zeros(ps.shape)\n",
    "        q = np.array([6,6])\n",
    "\n",
    "        # Communication network\n",
    "        comm_network_generator=lambda i,q,p:circulant(i,q,p,prev=1,post=0,undirected=True)\n",
    "        # comm_network_generator=lambda i,q,p:fc_comm_network(i,q,p)\n",
    "        G = comm_network_generator(0,q,ps)\n",
    "\n",
    "        a_list = get_adj_list(q,ps,G)\n",
    "\n",
    "        controllers = [GradientEstimateController(1,p) for p in ps]\n",
    "\n",
    "        p_hist = []\n",
    "        q_hist = []\n",
    "\n",
    "        # Main loop\n",
    "        for _ in range(N_iter):\n",
    "            p_hist.append(ps.copy())\n",
    "\n",
    "            y = vs.measurement(q,ps)\n",
    "\n",
    "            gradient = total_grad_est(ps,y,G)\n",
    "\n",
    "            for i,c in enumerate(controllers):\n",
    "                c.update(gradient[i],\\\n",
    "                                 ps[a_list[i]],\\\n",
    "                                 vel[a_list[i]])\n",
    "            ps = np.array([c.loc for c in controllers])\n",
    "            vel = np.array([c.vel for c in controllers])\n",
    "            q_hist.append(q)\n",
    "\n",
    "        data['p'].append(np.array(p_hist))\n",
    "        data['q'].append(np.array(q_hist))\n",
    "\n",
    "    data['p'] = np.array(data['p'])\n",
    "    data['q'] = np.array(data['q'])\n",
    "\n",
    "    with open('Naomi-Distributed-{}Senor.pkl'.format(N_sen),'wb') as file:\n",
    "        pkl.dump(data,file)"
   ]
  },
  {
   "cell_type": "code",
   "execution_count": 310,
   "metadata": {},
   "outputs": [
    {
     "data": {
      "image/png": "[encoded data removed]",
      "text/plain": [
       "<Figure size 432x288 with 1 Axes>"
      ]
     },
     "metadata": {},
     "output_type": "display_data"
    }
   ],
   "source": [
    "for i in range(N_sen):\n",
    "    plt.scatter(p_hist[:,i,0],p_hist[:,i,1])"
   ]
  }
 ],
 "metadata": {
  "kernelspec": {
   "display_name": "Python 3",
   "language": "python",
   "name": "python3"
  },
  "language_info": {
   "codemirror_mode": {
    "name": "ipython",
    "version": 3
   },
   "file_extension": ".py",
   "mimetype": "text/x-python",
   "name": "python",
   "nbconvert_exporter": "python",
   "pygments_lexer": "ipython3",
   "version": "3.8.2"
  }
 },
 "nbformat": 4,
 "nbformat_minor": 4
}
