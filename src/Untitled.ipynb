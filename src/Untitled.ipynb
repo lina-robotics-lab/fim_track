{
 "cells": [
  {
   "cell_type": "markdown",
   "metadata": {},
   "source": [
    "# What is the average steps needed for $n$ sensors to hit the source using spherical uniform random walk?(Random walk with uniformly random direction and fixed step size)"
   ]
  },
  {
   "cell_type": "code",
   "execution_count": 1,
   "metadata": {},
   "outputs": [],
   "source": [
    "import numpy as np\n",
    "from matplotlib import pyplot as plt"
   ]
  },
  {
   "cell_type": "code",
   "execution_count": 7,
   "metadata": {},
   "outputs": [],
   "source": [
    "def random_unit_vec(n):\n",
    "    # Return a stack of n uniformly random unit row vectors\n",
    "    rand_theta = np.random.uniform(0,2*np.pi,n)\n",
    "\n",
    "    return np.array([np.cos(rand_theta),np.sin(rand_theta)]).T\n",
    "\n"
   ]
  },
  {
   "cell_type": "code",
   "execution_count": 96,
   "metadata": {},
   "outputs": [],
   "source": [
    "N_sensors = 6\n",
    "initial_dispersion_width = 3 \n",
    "\n",
    "\n",
    "N_iter=600\n",
    "N_trials = 1000\n",
    "\n",
    "contact_threshold = 0.1\n",
    "\n",
    "max_linear_speed = 0.1\n",
    "\n",
    "initial_dists = [2,4,6,8,10]\n",
    "\n",
    "means = []\n",
    "medians = []\n",
    "for initial_dist in initial_dists:\n",
    "    \n",
    "    counts = []\n",
    "    \n",
    "    q = np.array([0,initial_dist])\n",
    "\n",
    "    for _ in range(N_trials):\n",
    "        count = 0\n",
    "        p = (np.random.rand(N_sensors,2)-0.5)*initial_dispersion_width\n",
    "\n",
    "        for _ in range(N_iter):\n",
    "            dist = np.linalg.norm(p-q,axis=-1)\n",
    "\n",
    "            if np.any(dist<contact_threshold):\n",
    "                break\n",
    "            else:\n",
    "                count+=1\n",
    "                p += max_linear_speed * random_unit_vec(N_sensors) \n",
    "\n",
    "        counts.append(count)\n",
    "        \n",
    "        \n",
    "    means.append(np.mean(counts))\n",
    "    medians.append(np.median(counts))"
   ]
  },
  {
   "cell_type": "code",
   "execution_count": 97,
   "metadata": {},
   "outputs": [
    {
     "data": {
      "text/plain": [
       "[<matplotlib.lines.Line2D at 0x7f38d69d7e20>]"
      ]
     },
     "execution_count": 97,
     "metadata": {},
     "output_type": "execute_result"
    },
    {
     "data": {
      "image/png": "[encoded data removed]",
      "text/plain": [
       "<Figure size 432x288 with 1 Axes>"
      ]
     },
     "metadata": {
      "needs_background": "light"
     },
     "output_type": "display_data"
    }
   ],
   "source": [
    "plt.plot(initial_dists,means)"
   ]
  },
  {
   "cell_type": "code",
   "execution_count": 99,
   "metadata": {},
   "outputs": [
    {
     "data": {
      "text/plain": [
       "[461.519, 592.198, 599.817, 600.0, 600.0]"
      ]
     },
     "execution_count": 99,
     "metadata": {},
     "output_type": "execute_result"
    }
   ],
   "source": [
    "means"
   ]
  },
  {
   "cell_type": "code",
   "execution_count": 100,
   "metadata": {},
   "outputs": [
    {
     "data": {
      "text/plain": [
       "[<matplotlib.lines.Line2D at 0x7f38d55823a0>]"
      ]
     },
     "execution_count": 100,
     "metadata": {},
     "output_type": "execute_result"
    },
    {
     "data": {
      "image/png": "[encoded data removed]",
      "text/plain": [
       "<Figure size 432x288 with 1 Axes>"
      ]
     },
     "metadata": {
      "needs_background": "light"
     },
     "output_type": "display_data"
    }
   ],
   "source": [
    "plt.plot(initial_dists,medians)"
   ]
  },
  {
   "cell_type": "code",
   "execution_count": 101,
   "metadata": {},
   "outputs": [
    {
     "data": {
      "text/plain": [
       "[600.0, 600.0, 600.0, 600.0, 600.0]"
      ]
     },
     "execution_count": 101,
     "metadata": {},
     "output_type": "execute_result"
    }
   ],
   "source": [
    "medians"
   ]
  }
 ],
 "metadata": {
  "kernelspec": {
   "display_name": "Python 3",
   "language": "python",
   "name": "python3"
  },
  "language_info": {
   "codemirror_mode": {
    "name": "ipython",
    "version": 3
   },
   "file_extension": ".py",
   "mimetype": "text/x-python",
   "name": "python",
   "nbconvert_exporter": "python",
   "pygments_lexer": "ipython3",
   "version": "3.8.2"
  }
 },
 "nbformat": 4,
 "nbformat_minor": 4
}
