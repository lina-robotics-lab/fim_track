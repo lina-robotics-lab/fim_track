{
 "cells": [
  {
   "cell_type": "markdown",
   "metadata": {},
   "source": [
    "## The covariance matrix completion problem provided by cvxpy tutorial"
   ]
  },
  {
   "cell_type": "code",
   "execution_count": 1,
   "metadata": {},
   "outputs": [
    {
     "name": "stdout",
     "output_type": "stream",
     "text": [
      "The optimal value is 2.654351510231532\n",
      "A solution X is\n",
      "[[ 1.60805795 -0.59770492 -0.69576152]\n",
      " [-0.59770492  0.22229041  0.24689363]\n",
      " [-0.69576152  0.24689363  1.39679885]]\n"
     ]
    }
   ],
   "source": [
    "# Import packages.\n",
    "import cvxpy as cp\n",
    "import numpy as np\n",
    "\n",
    "# Generate a random SDP.\n",
    "n = 3\n",
    "p = 3\n",
    "np.random.seed(1)\n",
    "C = np.random.randn(n, n)\n",
    "A = []\n",
    "b = []\n",
    "for i in range(p):\n",
    "    A.append(np.random.randn(n, n))\n",
    "    b.append(np.random.randn())\n",
    "\n",
    "# Define and solve the CVXPY problem.\n",
    "# Create a symmetric matrix variable.\n",
    "X = cp.Variable((n,n), symmetric=True)\n",
    "# The operator >> denotes matrix inequality.\n",
    "constraints = [X >> 0]\n",
    "constraints += [\n",
    "    cp.trace(A[i] @ X) == b[i] for i in range(p)\n",
    "]\n",
    "prob = cp.Problem(cp.Minimize(cp.trace(C @ X)),\n",
    "                  constraints)\n",
    "prob.solve()\n",
    "\n",
    "# Print result.\n",
    "print(\"The optimal value is\", prob.value)\n",
    "print(\"A solution X is\")\n",
    "print(X.value)"
   ]
  },
  {
   "cell_type": "markdown",
   "metadata": {},
   "source": [
    "## Use SDP to solve the matrix conditioning problem"
   ]
  },
  {
   "cell_type": "markdown",
   "metadata": {},
   "source": [
    "The matrix conditioning problem tries to minimize the difference between the largest and smallest element of a matrix $S$, while keeping $S$ as a linear combination of data matrices $B,~A_i$:\n",
    "\n",
    "$$\n",
    "\\begin{aligned}\n",
    "\\min_{w,S} &~\\lambda_{max}(S)-\\lambda_{min}(S)\\\\\n",
    "s.t.& ~S = B - \\sum_{i=1}^n w_i A_i\n",
    "\\end{aligned}\n",
    "$$\n",
    "\n",
    "Writing this in standard SDP form, it is\n",
    "\n",
    "$$\n",
    "\\begin{aligned}\n",
    "\\min_{w,S} &~\\mu-\\lambda\\\\\n",
    "s.t.&\\\\\n",
    "\\mu I&\\succeq S\\succeq \\lambda I\\\\\n",
    "S &= B - \\sum_{i=1}^n w_i A_i\n",
    "\\end{aligned}\n",
    "$$"
   ]
  },
  {
   "cell_type": "code",
   "execution_count": 2,
   "metadata": {},
   "outputs": [],
   "source": [
    "# Data\n",
    "B=np.array([[1,3],[3,1]])\n",
    "As = np.vstack([np.random.rand(2,2) for _ in range(3)])\n",
    "\n",
    "# Variables\n",
    "mu = cp.Variable()\n",
    "l = cp.Variable()\n",
    "w = cp.Variable(3)\n",
    "S = cp.Variable((2,2),symmetric=True)\n",
    "\n",
    "constraints = [S==B-cp.hstack([w*np.eye(2) for w in w]) @ As,S>>l*np.eye(2),S<<mu*np.eye(2),mu>=0,l>=0]\n",
    "prob = cp.Problem(cp.Minimize(mu-l),constraints)"
   ]
  },
  {
   "cell_type": "code",
   "execution_count": 3,
   "metadata": {},
   "outputs": [
    {
     "name": "stdout",
     "output_type": "stream",
     "text": [
      "inf\n",
      "None None None None\n"
     ]
    }
   ],
   "source": [
    "prob.solve()\n",
    "print(prob.value)\n",
    "print(mu.value,l.value,w.value,S.value)"
   ]
  },
  {
   "cell_type": "code",
   "execution_count": 4,
   "metadata": {},
   "outputs": [
    {
     "ename": "LinAlgError",
     "evalue": "0-dimensional array given. Array must be at least two-dimensional",
     "output_type": "error",
     "traceback": [
      "\u001b[0;31m---------------------------------------------------------------------------\u001b[0m",
      "\u001b[0;31mLinAlgError\u001b[0m                               Traceback (most recent call last)",
      "\u001b[0;32m<ipython-input-4-4e69e5ce241e>\u001b[0m in \u001b[0;36m<module>\u001b[0;34m\u001b[0m\n\u001b[0;32m----> 1\u001b[0;31m \u001b[0mnp\u001b[0m\u001b[0;34m.\u001b[0m\u001b[0mlinalg\u001b[0m\u001b[0;34m.\u001b[0m\u001b[0meigvals\u001b[0m\u001b[0;34m(\u001b[0m\u001b[0mS\u001b[0m\u001b[0;34m.\u001b[0m\u001b[0mvalue\u001b[0m\u001b[0;34m)\u001b[0m\u001b[0;34m\u001b[0m\u001b[0;34m\u001b[0m\u001b[0m\n\u001b[0m",
      "\u001b[0;32m<__array_function__ internals>\u001b[0m in \u001b[0;36meigvals\u001b[0;34m(*args, **kwargs)\u001b[0m\n",
      "\u001b[0;32m~/miniconda3/envs/basics/lib/python3.8/site-packages/numpy/linalg/linalg.py\u001b[0m in \u001b[0;36meigvals\u001b[0;34m(a)\u001b[0m\n\u001b[1;32m   1059\u001b[0m     \"\"\"\n\u001b[1;32m   1060\u001b[0m     \u001b[0ma\u001b[0m\u001b[0;34m,\u001b[0m \u001b[0mwrap\u001b[0m \u001b[0;34m=\u001b[0m \u001b[0m_makearray\u001b[0m\u001b[0;34m(\u001b[0m\u001b[0ma\u001b[0m\u001b[0;34m)\u001b[0m\u001b[0;34m\u001b[0m\u001b[0;34m\u001b[0m\u001b[0m\n\u001b[0;32m-> 1061\u001b[0;31m     \u001b[0m_assert_stacked_2d\u001b[0m\u001b[0;34m(\u001b[0m\u001b[0ma\u001b[0m\u001b[0;34m)\u001b[0m\u001b[0;34m\u001b[0m\u001b[0;34m\u001b[0m\u001b[0m\n\u001b[0m\u001b[1;32m   1062\u001b[0m     \u001b[0m_assert_stacked_square\u001b[0m\u001b[0;34m(\u001b[0m\u001b[0ma\u001b[0m\u001b[0;34m)\u001b[0m\u001b[0;34m\u001b[0m\u001b[0;34m\u001b[0m\u001b[0m\n\u001b[1;32m   1063\u001b[0m     \u001b[0m_assert_finite\u001b[0m\u001b[0;34m(\u001b[0m\u001b[0ma\u001b[0m\u001b[0;34m)\u001b[0m\u001b[0;34m\u001b[0m\u001b[0;34m\u001b[0m\u001b[0m\n",
      "\u001b[0;32m~/miniconda3/envs/basics/lib/python3.8/site-packages/numpy/linalg/linalg.py\u001b[0m in \u001b[0;36m_assert_stacked_2d\u001b[0;34m(*arrays)\u001b[0m\n\u001b[1;32m    195\u001b[0m     \u001b[0;32mfor\u001b[0m \u001b[0ma\u001b[0m \u001b[0;32min\u001b[0m \u001b[0marrays\u001b[0m\u001b[0;34m:\u001b[0m\u001b[0;34m\u001b[0m\u001b[0;34m\u001b[0m\u001b[0m\n\u001b[1;32m    196\u001b[0m         \u001b[0;32mif\u001b[0m \u001b[0ma\u001b[0m\u001b[0;34m.\u001b[0m\u001b[0mndim\u001b[0m \u001b[0;34m<\u001b[0m \u001b[0;36m2\u001b[0m\u001b[0;34m:\u001b[0m\u001b[0;34m\u001b[0m\u001b[0;34m\u001b[0m\u001b[0m\n\u001b[0;32m--> 197\u001b[0;31m             raise LinAlgError('%d-dimensional array given. Array must be '\n\u001b[0m\u001b[1;32m    198\u001b[0m                     'at least two-dimensional' % a.ndim)\n\u001b[1;32m    199\u001b[0m \u001b[0;34m\u001b[0m\u001b[0m\n",
      "\u001b[0;31mLinAlgError\u001b[0m: 0-dimensional array given. Array must be at least two-dimensional"
     ]
    }
   ],
   "source": [
    "np.linalg.eigvals(S.value)"
   ]
  },
  {
   "cell_type": "markdown",
   "metadata": {},
   "source": [
    "## FIM optimization in a local range"
   ]
  },
  {
   "cell_type": "code",
   "execution_count": 37,
   "metadata": {},
   "outputs": [],
   "source": [
    "# Import packages.\n",
    "import cvxpy as cp\n",
    "from utils.dLdp import dhdr,d2hdr2,analytic_dhdz,analytic_FIM\n",
    "from utils.DynamicFilters import joint_meas_func\n",
    "\n",
    "def trust_region_plan_single_step(q,ps,C1s,C0s,ks,bs,bounding_radius = 1):\n",
    "    '''\n",
    "    bounding_radius: The physical distance reachable in one time step by the sensors' ability.\n",
    "    '''\n",
    "    # Two important helper functions for the trust region\n",
    "    def trust_region_adjust(prob,step_size,new_p,new_z,new_Fp,p_iter,z_iter,Fp_iter):\n",
    "        feasible = np.all([c.value for c in prob.constraints])\n",
    "        improved = np.min(np.linalg.eigvals(new_Fp))>np.min(np.linalg.eigvals(Fp_iter))\n",
    "        if feasible and improved: # To be implemented later\n",
    "            new_step_size = step_size*2\n",
    "            return new_p,new_z,new_step_size\n",
    "        else:\n",
    "            new_step_size = step_size/2\n",
    "            return p_iter,z_iter,new_step_size\n",
    "    \n",
    "    def solve_linearized_problem(step_size,bounding_radius,p_init,p_iter,z_iter,C1s,C0s,ks,bs):\n",
    "        # Prepare the raw data\n",
    "        rs = np.linalg.norm(p_iter-q,axis=1)\n",
    "        r_hat = ((p_iter-q).T/rs).T\n",
    "        t_hat=np.zeros(r_hat.shape)\n",
    "        t_hat[:,0]=-r_hat[:,1]\n",
    "        t_hat[:,1]=r_hat[:,0]\n",
    "\n",
    "        d = dhdr(rs,C1s,C0s,ks,bs)\n",
    "        dd = d2hdr2(rs,C1s,C0s,ks,bs)       \n",
    "\n",
    "        As = (-d*r_hat.T).T\n",
    "\n",
    "        Fp=As.T.dot(As) # Current FIM\n",
    "\n",
    "        # Declare the optimization-related variables.\n",
    "        dps = cp.Variable(p_iter.shape)\n",
    "        dz = cp.Variable(nonneg=True)\n",
    "\n",
    "        # Prepare the matrix directional derivative DF[dps] matrix.\n",
    "        rhat_conj=[r_hat[i,:,np.newaxis].dot(r_hat[i,np.newaxis,:]) for i in range(len(r_hat))]\n",
    "        that_conj = [t_hat[i,:,np.newaxis].dot(t_hat[i,np.newaxis,:]) for i in range(len(t_hat))]\n",
    "        dpdAs =[-dd*rc-1/r*d*tc for dd,d,r,rc,tc in zip(dd,d,rs,rhat_conj,that_conj)]\n",
    "\n",
    "        dps_As = [dps.T[:,i,np.newaxis]@(As[i,np.newaxis,:]) for i in range(len(As))]\n",
    "\n",
    "        half_DF = np.hstack(dpdAs)@(cp.vstack(dps_As))\n",
    "\n",
    "        DF = half_DF+half_DF.T\n",
    "\n",
    "        # Prepare the objective and constraints\n",
    "        I = np.eye(p_iter.shape[1])\n",
    "        constraints = [Fp-z_iter*I+DF-dz*I>>0,\n",
    "                       cp.norm(p_iter+dps-p_init,axis=1)<=bounding_radius,\n",
    "                       cp.norm(dps,axis=1)<=step_size]\n",
    "        prob = cp.Problem(cp.Minimize(-dz),constraints)\n",
    "        prob.solve()\n",
    "        newFp = analytic_FIM(q,p_iter+dps.value,C1s,C0s,ks,bs)\n",
    "        return p_iter+dps.value,newFp,z_iter+prob.value,prob\n",
    "\n",
    "      \n",
    "    # The initial z should take value zero.\n",
    "    z_iter = 0\n",
    "    # The initial p should take the value of current ps\n",
    "    p_init = ps\n",
    "    p_iter = p_init\n",
    "\n",
    "    # The initial step size is 0.1\n",
    "    step_size = 0.1\n",
    "\n",
    "    # Enter the inner loop of solving a sequence of linearized SDP\n",
    "    for i in range(100):\n",
    "        Fp_iter = analytic_FIM(q,p_iter,C1s,C0s,ks,bs)\n",
    "        new_p,new_Fp,new_z,prob = solve_linearized_problem(step_size,bounding_radius,p_init,p_iter,z_iter,C1s,C0s,ks,bs)\n",
    "        p_iter,z_iter,step_size=trust_region_adjust(prob,step_size,new_p,new_z,new_Fp,p_iter,z_iter,Fp_iter) # Adjust the iteration parameters\n",
    "        if step_size<1e-4: # Optimality certificate\n",
    "            break\n",
    "            \n",
    "    return p_iter\n",
    "  \n",
    "src_locs = np.array([[8.,8.]])\n",
    "r=0.5\n",
    "thetas = np.pi * 2 * np.linspace(0,1,3,endpoint=False)\n",
    "sensor_locs = r*np.vstack([np.sin(thetas),np.cos(thetas)]).T+np.array([[0.,0]])\n",
    "\n",
    "\n",
    "N_iter=10\n",
    "\n",
    "# Set up mobile sensors and sources\n",
    "sensor_names = [\"mobile_sensor_{}\".format(i+1) for i in range(len(sensor_locs))]\n",
    "mobile_sensors = [Robot(loc,name) for loc,name in zip(sensor_locs,sensor_names)]\n",
    "\n",
    "src_names = [\"source_{}\".format(i+1) for i in range(len(src_locs))]\n",
    "source = [Robot(loc,name) for loc,name in zip(src_locs,src_names)]\n",
    "\n",
    "# Set up virtual sensors\n",
    "C1=0\n",
    "C0=0\n",
    "k=1\n",
    "b=-2\n",
    "std = 0.1\n",
    "\n",
    "\n",
    "n_sen = len(mobile_sensors)\n",
    "n_src = len(source)\n",
    "C1s=C1*np.ones(n_sen)\n",
    "C0s = C0*np.ones(n_sen)\n",
    "ks = k * np.ones(n_sen)\n",
    "bs = b*np.ones(n_sen)  \n",
    "\n",
    "\n",
    "h=partial(joint_meas_func,C1s,C0s,ks,bs)# Freeze the coefficients, the signature becomes h(z,ps)\n",
    "dhdz=partial(analytic_dhdz,C1s,C0s,ks,bs)\n",
    "# Enter main loop\n",
    "\n",
    "# Measure\n",
    "ps = np.array([r.loc for r in mobile_sensors])\n",
    "q = np.array([s.loc for s in source])\n",
    "\n",
    "\n",
    "# Plan\n"
   ]
  }
 ],
 "metadata": {
  "kernelspec": {
   "display_name": "Python 3",
   "language": "python",
   "name": "python3"
  },
  "language_info": {
   "codemirror_mode": {
    "name": "ipython",
    "version": 3
   },
   "file_extension": ".py",
   "mimetype": "text/x-python",
   "name": "python",
   "nbconvert_exporter": "python",
   "pygments_lexer": "ipython3",
   "version": "3.8.2"
  }
 },
 "nbformat": 4,
 "nbformat_minor": 4
}
