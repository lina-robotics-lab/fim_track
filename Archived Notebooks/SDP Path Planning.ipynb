{
 "cells": [
  {
   "cell_type": "markdown",
   "metadata": {},
   "source": [
    "# This notebook is used to develop the SDP version of path planning, different from our previous gradient descent approach on an engineered loss function\n",
    "\n",
    "Again, we only consider centralized setting. Also, we do not involve the estimation part in the development, assuming the source location is already given."
   ]
  },
  {
   "cell_type": "code",
   "execution_count": 1,
   "metadata": {},
   "outputs": [],
   "source": [
    "\n",
    "%matplotlib inline\n",
    "import numpy as np\n",
    "from matplotlib import pyplot as plt\n",
    "from matplotlib import animation, rc\n",
    "from matplotlib.lines import Line2D\n",
    "\n",
    "from IPython.display import HTML\n",
    "\n",
    "import pickle as pkl\n",
    "import networkx as nx\n",
    "from matplotlib import style\n",
    "import jax.numpy as jnp\n",
    "from jax import jacfwd, jit,grad\n",
    "from functools import partial\n",
    "\n",
    "\n",
    "from Robot import Robot\n",
    "from virtual_sensor import virtual_sensor\n",
    "from utils.DynamicFilters import getDynamicFilter,joint_meas_func\n",
    "from utils.FIMPathPlanning import FIM_ascent_path_planning \n",
    "from utils.dLdp import FIM,FIM_mix,analytic_dLdp,analytic_dhdz\n",
    "from utils.regions import CircleExterior\n",
    "from tracking_log import logger\n",
    "\n",
    "from utils.TrustRegionPathPlanning import trust_region_plan_single_step\n",
    " \n",
    "\n",
    "%load_ext autoreload\n",
    "%autoreload 2"
   ]
  },
  {
   "cell_type": "code",
   "execution_count": 16,
   "metadata": {},
   "outputs": [],
   "source": [
    "# # Import packages.\n",
    "# import cvxpy as cp\n",
    "# from utils.dLdp import dhdr,d2hdr2,analytic_dhdz,analytic_FIM\n",
    "# from utils.DynamicFilters import joint_meas_func\n",
    "\n",
    "# def trust_region_plan_single_step(q,ps,C1s,C0s,ks,bs,bounding_radius = 1):\n",
    "#     '''\n",
    "#     bounding_radius: The physical distance reachable in one time step by the sensors' ability.\n",
    "#     '''\n",
    "#     # Two important helper functions for the trust region\n",
    "#     def trust_region_adjust(prob,step_size,new_p,new_z,new_Fp,p_iter,z_iter,Fp_iter):\n",
    "        \n",
    "        \n",
    "        \n",
    "#         cons = [c.value for c in prob.constraints]\n",
    "#         cons.append(np.all(np.linalg.norm(new_p-ps,axis=1)<=bounding_radius))\n",
    "#         not_violated=np.all(cons)\n",
    "        \n",
    "#         improved = np.min(np.linalg.eigvals(new_Fp))>np.min(np.linalg.eigvals(Fp_iter))\n",
    "        \n",
    "#         if (not_violated and improved) or prob.status!='optimal': # To be implemented later\n",
    "#             new_step_size = np.min([step_size*2,bounding_radius])\n",
    "#             return new_p,new_z,new_step_size\n",
    "#         else:\n",
    "#             new_step_size = step_size/2\n",
    "#             return p_iter,z_iter,new_step_size\n",
    "    \n",
    "#     def solve_linearized_problem(step_size,bounding_radius,p_init,p_iter,z_iter,C1s,C0s,ks,bs):\n",
    "#         # Prepare the raw data\n",
    "#         rs = np.linalg.norm(p_iter-q,axis=1)\n",
    "#         r_hat = ((p_iter-q).T/rs).T\n",
    "#         t_hat=np.zeros(r_hat.shape)\n",
    "#         t_hat[:,0]=-r_hat[:,1]\n",
    "#         t_hat[:,1]=r_hat[:,0]\n",
    "\n",
    "#         d = dhdr(rs,C1s,C0s,ks,bs)\n",
    "#         dd = d2hdr2(rs,C1s,C0s,ks,bs)       \n",
    "\n",
    "#         As = (-d*r_hat.T).T\n",
    "\n",
    "#         Fp=As.T.dot(As) # Current FIM\n",
    "\n",
    "#         # Declare the optimization-related variables.\n",
    "#         dps = cp.Variable(p_iter.shape)\n",
    "#         dz = cp.Variable(nonneg=True)\n",
    "\n",
    "#         # Prepare the matrix directional derivative DF[dps] matrix.\n",
    "#         rhat_conj=[r_hat[i,:,np.newaxis].dot(r_hat[i,np.newaxis,:]) for i in range(len(r_hat))]\n",
    "#         that_conj = [t_hat[i,:,np.newaxis].dot(t_hat[i,np.newaxis,:]) for i in range(len(t_hat))]\n",
    "#         dpdAs =[-dd*rc-1/r*d*tc for dd,d,r,rc,tc in zip(dd,d,rs,rhat_conj,that_conj)]\n",
    "\n",
    "#         dps_As = [dps.T[:,i,np.newaxis]@(As[i,np.newaxis,:]) for i in range(len(As))]\n",
    "\n",
    "#         half_DF = np.hstack(dpdAs)@(cp.vstack(dps_As))\n",
    "\n",
    "#         DF = half_DF+half_DF.T\n",
    "\n",
    "#         # Prepare the objective and constraints\n",
    "#         I = np.eye(p_iter.shape[1])\n",
    "#         constraints = [Fp-z_iter*I+DF-dz*I>>0,\n",
    "#                        cp.norm(p_iter+dps-p_init,axis=1)<=bounding_radius,\n",
    "#                        cp.norm(dps,axis=1)<=step_size]\n",
    "#         prob = cp.Problem(cp.Minimize(-dz),constraints)\n",
    "#         prob.solve()\n",
    "#         if prob.status == 'optimal':\n",
    "#             newFp = analytic_FIM(q,p_iter+dps.value,C1s,C0s,ks,bs)\n",
    "#             return p_iter+dps.value,newFp,z_iter+prob.value,prob\n",
    "#         else:\n",
    "#             return p_iter,Fp,z_iter,prob\n",
    "           \n",
    "      \n",
    "#     # The initial z should take value zero.\n",
    "#     z_iter = 0\n",
    "#     # The initial p should take the value of current ps\n",
    "#     p_init = np.array(ps)\n",
    "#     p_iter = np.array(p_init)\n",
    "\n",
    "#     # The initial step size is 0.1\n",
    "#     step_size = bounding_radius\n",
    "\n",
    "#     # Enter the inner loop of solving a sequence of linearized SDP\n",
    "#     for i in range(100):\n",
    "#         Fp_iter = analytic_FIM(q,p_iter,C1s,C0s,ks,bs)\n",
    "        \n",
    "#         new_p,new_Fp,new_z,prob = solve_linearized_problem(step_size,bounding_radius,p_init,p_iter,z_iter,C1s,C0s,ks,bs)\n",
    "        \n",
    "#         p_iter,z_iter,step_size=trust_region_adjust(prob,step_size,new_p,new_z,new_Fp,p_iter,z_iter,Fp_iter) # Adjust the iteration parameters\n",
    "        \n",
    "#         assert( np.all([c.value for c in prob.constraints]))\n",
    "#         if step_size<1e-4: # Optimality certificate\n",
    "#             break\n",
    "#     return p_iter"
   ]
  },
  {
   "cell_type": "code",
   "execution_count": 2,
   "metadata": {},
   "outputs": [],
   "source": [
    "def SDP_plan(N_iter):\n",
    "    src_locs = np.array([[8.,8.]])\n",
    "    r=0.5\n",
    "    thetas = np.pi * 2 * np.linspace(0,1,3,endpoint=False)\n",
    "    sensor_locs = r*np.vstack([np.sin(thetas),np.cos(thetas)]).T+np.array([[0.,0]])\n",
    "\n",
    "\n",
    "    # Set up mobile sensors and sources\n",
    "    sensor_names = [\"mobile_sensor_{}\".format(i+1) for i in range(len(sensor_locs))]\n",
    "    mobile_sensors = [Robot(loc,name) for loc,name in zip(sensor_locs,sensor_names)]\n",
    "\n",
    "    src_names = [\"source_{}\".format(i+1) for i in range(len(src_locs))]\n",
    "    source = [Robot(loc,name) for loc,name in zip(src_locs,src_names)]\n",
    "\n",
    "    # Set up virtual sensors\n",
    "    C1=0\n",
    "    C0=0\n",
    "    k=1\n",
    "    b=-2\n",
    "    std = 0.1\n",
    "\n",
    "\n",
    "    n_sen = len(mobile_sensors)\n",
    "    n_src = len(source)\n",
    "    C1s=C1*np.ones(n_sen)\n",
    "    C0s = C0*np.ones(n_sen)\n",
    "    ks = k * np.ones(n_sen)\n",
    "    bs = b*np.ones(n_sen)  \n",
    "\n",
    "    # vs = virtual_sensor(C1,C0,b,k,std)\n",
    "\n",
    "    # estimator = EKF(q_0,R_mag=0.1,Q_mag=0.1)\n",
    "\n",
    "    # Set up data logger\n",
    "    log = logger(sensor_names,src_names)\n",
    "\n",
    "    ps = np.array([r.loc for r in mobile_sensors])\n",
    "    qs = np.array([s.loc for s in source])\n",
    "\n",
    "\n",
    "    h=partial(joint_meas_func,C1s,C0s,ks,bs)# Freeze the coefficients, the signature becomes h(z,ps)\n",
    "    dhdz=partial(analytic_dhdz,C1s,C0s,ks,bs)\n",
    "    f_dLdp = partial(analytic_dLdp,C1s=C1s,C0s=C0s,ks=ks,bs=bs)\n",
    "    # Enter main loop\n",
    "\n",
    "    for _ in range(N_iter):\n",
    "        # Measure\n",
    "        ps = np.array([r.loc for r in mobile_sensors])\n",
    "        qs = np.array([s.loc for s in source])\n",
    "\n",
    "    #     y = vs.measurement(qs,ps)\n",
    "        # Record\n",
    "        for s in source:\n",
    "            log.src_locs[s.name].append(s.loc)\n",
    "\n",
    "        for m in mobile_sensors:\n",
    "            log.sensor_locs[m.name].append(m.loc)\n",
    "\n",
    "        \n",
    "\n",
    "        max_linear_speed = 0.22\n",
    "        try:\n",
    "            # Plan\n",
    "            waypoints = trust_region_plan_single_step(qs,ps,C1s,C0s,ks,bs,bounding_radius = max_linear_speed)\n",
    "            #Update\n",
    "            for i in range(n_sen):\n",
    "                  mobile_sensors[i].update_loc(waypoints[i])\n",
    "\n",
    "       \n",
    "\n",
    "        except Exception:\n",
    "    #         print('Infeasible Solution Encountered')\n",
    "            # Randomly jitter the sensors.\n",
    "            for i in range(n_sen):\n",
    "                p=mobile_sensors[i].loc\n",
    "                mobile_sensors[i].update_loc(p+(np.random.rand(*p.shape)-0.5)*max_linear_speed)\n",
    "    #         break\n",
    "\n",
    "\n",
    "\n",
    "    record=log.export()\n",
    "    return record"
   ]
  },
  {
   "cell_type": "code",
   "execution_count": 3,
   "metadata": {},
   "outputs": [],
   "source": [
    "def GD_plan(N_iter):\n",
    "    src_locs = np.array([[8.,8.]])\n",
    "    r=0.5\n",
    "    thetas = np.pi * 2 * np.linspace(0,1,3,endpoint=False)\n",
    "    sensor_locs = r*np.vstack([np.sin(thetas),np.cos(thetas)]).T+np.array([[0.,0]])\n",
    "\n",
    "\n",
    "\n",
    "    # Set up mobile sensors and sources\n",
    "    sensor_names = [\"mobile_sensor_{}\".format(i+1) for i in range(len(sensor_locs))]\n",
    "    mobile_sensors = [Robot(loc,name) for loc,name in zip(sensor_locs,sensor_names)]\n",
    "\n",
    "    src_names = [\"source_{}\".format(i+1) for i in range(len(src_locs))]\n",
    "    source = [Robot(loc,name) for loc,name in zip(src_locs,src_names)]\n",
    "\n",
    "    # Set up virtual sensors\n",
    "    C1=0\n",
    "    C0=0\n",
    "    k=1\n",
    "    b=-2\n",
    "    std = 0.1\n",
    "\n",
    "\n",
    "    n_sen = len(mobile_sensors)\n",
    "    n_src = len(source)\n",
    "    C1s=C1*np.ones(n_sen)\n",
    "    C0s = C0*np.ones(n_sen)\n",
    "    ks = k * np.ones(n_sen)\n",
    "    bs = b*np.ones(n_sen)  \n",
    "\n",
    "    # vs = virtual_sensor(C1,C0,b,k,std)\n",
    "\n",
    "    # estimator = EKF(q_0,R_mag=0.1,Q_mag=0.1)\n",
    "\n",
    "    # Set up data logger\n",
    "    log = logger(sensor_names,src_names)\n",
    "\n",
    "    ps = np.array([r.loc for r in mobile_sensors])\n",
    "    qs = np.array([s.loc for s in source])\n",
    "\n",
    "\n",
    "    h=partial(joint_meas_func,C1s,C0s,ks,bs)# Freeze the coefficients, the signature becomes h(z,ps)\n",
    "    dhdz=partial(analytic_dhdz,C1s,C0s,ks,bs)\n",
    "    f_dLdp = partial(analytic_dLdp,C1s=C1s,C0s=C0s,ks=ks,bs=bs)\n",
    "    # Enter main loop\n",
    "\n",
    "    for _ in range(N_iter):\n",
    "        # Measure\n",
    "        ps = np.array([r.loc for r in mobile_sensors])\n",
    "        qs = np.array([s.loc for s in source])\n",
    "\n",
    "    #     y = vs.measurement(qs,ps)\n",
    "        # Record\n",
    "        for s in source:\n",
    "            log.src_locs[s.name].append(s.loc)\n",
    "\n",
    "        for m in mobile_sensors:\n",
    "            log.sensor_locs[m.name].append(m.loc)\n",
    "\n",
    "        # Plan\n",
    "\n",
    "        max_linear_speed = 0.22\n",
    "        try:\n",
    "            planning_timesteps = 1\n",
    "            planning_dt = 1\n",
    "            epsilon = 0.5\n",
    "            hard_boundary = CircleExterior(qs[0],0.5)\n",
    "            # The FIM waypoint planning  \n",
    "            waypoints=FIM_ascent_path_planning(f_dLdp,qs[0],ps,n_sen,\\\n",
    "                            planning_timesteps,\\\n",
    "                            max_linear_speed,\\\n",
    "                            planning_dt,\\\n",
    "                            epsilon,hard_boundary)\n",
    "            for i in range(n_sen):\n",
    "                  mobile_sensors[i].update_loc(waypoints[0][i])\n",
    "\n",
    "\n",
    "\n",
    "        except Exception:\n",
    "    #         print('Infeasible Solution Encountered')\n",
    "            # Randomly jitter the sensors.\n",
    "            for i in range(n_sen):\n",
    "                p=mobile_sensors[i].loc\n",
    "                mobile_sensors[i].update_loc(p+(np.random.rand(*p.shape)-0.5)*max_linear_speed)\n",
    "    #         break\n",
    "\n",
    "\n",
    "\n",
    "    record=log.export()\n",
    "    return record"
   ]
  },
  {
   "cell_type": "markdown",
   "metadata": {},
   "source": [
    "# Sensor paths following gradient descent"
   ]
  },
  {
   "cell_type": "code",
   "execution_count": 4,
   "metadata": {},
   "outputs": [
    {
     "name": "stdout",
     "output_type": "stream",
     "text": [
      "Computational Time per step(s): 0.00030545234680175783\n"
     ]
    },
    {
     "data": {
      "image/png": "[encoded data removed]",
      "text/plain": [
       "<Figure size 600x400 with 1 Axes>"
      ]
     },
     "metadata": {
      "needs_background": "light"
     },
     "output_type": "display_data"
    }
   ],
   "source": [
    "import time\n",
    "N_iter = 100\n",
    "t=time.time()\n",
    "record=GD_plan(N_iter)\n",
    "print('Computational Time per step(s):',(time.time()-t)/N_iter)\n",
    "\n",
    "src_locs=record['src_locs']['source_1']\n",
    "\n",
    "fig, ax = plt.subplots(dpi=100)\n",
    "ax.cla()\n",
    "ax.scatter(src_locs[0,0],src_locs[0,1],marker='*',s=50,label='Source')\n",
    "\n",
    "#     ax.scatter(zhats[:,0],zhats[:,1],marker='*',s=50,label='Estimations',facecolor=\"None\",edgecolor='b')\n",
    "for sensor, locs in record['sensor_locs'].items():\n",
    "    ax.scatter(locs[:,0],locs[:,1],marker='.',s=50)\n",
    "    \n",
    "ax.axis('on')\n",
    "ax.axis('equal')\n",
    "ax.tick_params(left=True, bottom=True, labelleft=True, labelbottom=True)\n",
    "ax.set_xlim((-10,20))\n",
    "ax.set_ylim((-10,20))\n",
    "ax.legend()\n",
    "# ax.set_title()\n",
    "plt.show()\n",
    "\n"
   ]
  },
  {
   "cell_type": "markdown",
   "metadata": {},
   "source": [
    "# Sensor paths following SDP trust-region method(much more computationally expensive than gradient descent)"
   ]
  },
  {
   "cell_type": "code",
   "execution_count": 8,
   "metadata": {},
   "outputs": [
    {
     "name": "stderr",
     "output_type": "stream",
     "text": [
      "/home/tianpeng/miniconda3/envs/basics/lib/python3.8/site-packages/cvxpy/problems/problem.py:1125: UserWarning: Solution may be inaccurate. Try another solver, adjusting the solver settings, or solve with verbose=True for more information.\n",
      "  warnings.warn(\n"
     ]
    },
    {
     "name": "stdout",
     "output_type": "stream",
     "text": [
      "Computational time per step(s): 3.2539751601219176\n"
     ]
    },
    {
     "data": {
      "image/png": "[encoded data removed]",
      "text/plain": [
       "<Figure size 600x400 with 1 Axes>"
      ]
     },
     "metadata": {
      "needs_background": "light"
     },
     "output_type": "display_data"
    }
   ],
   "source": [
    "N_iter=100\n",
    "t=time.time()\n",
    "record=SDP_plan(N_iter)\n",
    "print('Computational time per step(s):',(time.time()-t)/N_iter)\n",
    "\n",
    "\n",
    "src_locs=record['src_locs']['source_1']\n",
    "\n",
    "\n",
    "fig, ax = plt.subplots(dpi=100)\n",
    "ax.cla()\n",
    "ax.scatter(src_locs[0,0],src_locs[0,1],marker='*',s=50,label='Source')\n",
    "\n",
    "#     ax.scatter(zhats[:,0],zhats[:,1],marker='*',s=50,label='Estimations',facecolor=\"None\",edgecolor='b')\n",
    "for sensor, locs in record['sensor_locs'].items():\n",
    "    ax.scatter(locs[:,0],locs[:,1],marker='.',s=50)\n",
    "    \n",
    "ax.axis('on')\n",
    "ax.axis('equal')\n",
    "ax.tick_params(left=True, bottom=True, labelleft=True, labelbottom=True)\n",
    "ax.set_xlim((-10,20))\n",
    "ax.set_ylim((-10,20))\n",
    "ax.legend()\n",
    "# ax.set_title()\n",
    "plt.show()\n",
    "\n"
   ]
  },
  {
   "cell_type": "code",
   "execution_count": 9,
   "metadata": {},
   "outputs": [
    {
     "data": {
      "image/png": "[encoded data removed]",
      "text/plain": [
       "<Figure size 432x288 with 1 Axes>"
      ]
     },
     "metadata": {
      "needs_background": "light"
     },
     "output_type": "display_data"
    },
    {
     "data": {
      "image/png": "[encoded data removed]",
      "text/plain": [
       "<Figure size 432x288 with 1 Axes>"
      ]
     },
     "metadata": {
      "needs_background": "light"
     },
     "output_type": "display_data"
    },
    {
     "data": {
      "image/png": "[encoded data removed]",
      "text/plain": [
       "<Figure size 432x288 with 1 Axes>"
      ]
     },
     "metadata": {
      "needs_background": "light"
     },
     "output_type": "display_data"
    }
   ],
   "source": [
    "for sensor, locs in record['sensor_locs'].items():\n",
    "    plt.plot(locs[:,0],marker='.')\n",
    "    plt.plot(locs[:,1],marker='.')\n",
    "    plt.show()"
   ]
  }
 ],
 "metadata": {
  "kernelspec": {
   "display_name": "Python 3",
   "language": "python",
   "name": "python3"
  },
  "language_info": {
   "codemirror_mode": {
    "name": "ipython",
    "version": 3
   },
   "file_extension": ".py",
   "mimetype": "text/x-python",
   "name": "python",
   "nbconvert_exporter": "python",
   "pygments_lexer": "ipython3",
   "version": "3.8.2"
  }
 },
 "nbformat": 4,
 "nbformat_minor": 4
}
