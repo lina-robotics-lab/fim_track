{
 "cells": [
  {
   "cell_type": "code",
   "execution_count": 23,
   "metadata": {},
   "outputs": [
    {
     "name": "stdout",
     "output_type": "stream",
     "text": [
      "The autoreload extension is already loaded. To reload it, use:\n",
      "  %reload_ext autoreload\n"
     ]
    }
   ],
   "source": [
    "import numpy as np\n",
    "from matplotlib import pyplot as plt\n",
    "\n",
    "import pickle as pkl\n",
    "from matplotlib import style\n",
    "import networkx as nx\n",
    "\n",
    "from jax import jit, jacfwd\n",
    "from FormationControl import formation_control_force\n",
    "from GradientEstimation import total_grad_est\n",
    "from utils.MutualSepPathPlanning import mutual_separation_path_planning,sep_func\n",
    "style.use('fivethirtyeight')\n",
    "\n",
    "%load_ext autoreload\n",
    "%autoreload 2"
   ]
  },
  {
   "cell_type": "code",
   "execution_count": 24,
   "metadata": {},
   "outputs": [],
   "source": [
    "def circulant(i,q,p,prev,post,undirected=False):\n",
    "    \"\"\"\n",
    "        Generate a circulant graph with len(p) nodes, node i connected with [i-prev:i+post],i-prev and i+post included but self-loop eliminated.\n",
    "    \"\"\"\n",
    "    n = len(p)\n",
    "    G = nx.DiGraph()\n",
    "    edges = [(j%n,i) for i in range(n) for j in range(i-prev,i+post+1)]\n",
    "    G.add_edges_from(edges)\n",
    "    G.remove_edges_from(nx.selfloop_edges(G))\n",
    "    if undirected:\n",
    "        G = G.to_undirected()\n",
    "    return G\n",
    "def fc_comm_network(i,qs,ps):\n",
    "    \"\"\"\n",
    "        Given the iteration number i, source location qs, sensor location ps,\n",
    "        return the current communication network G.\n",
    "        \n",
    "        This variation returns a fully connected network with number of nodes=len(ps),\n",
    "        without self-loops.\n",
    "    \"\"\"\n",
    "    A = np.ones([len(ps),len(ps)])-np.eye(len(ps))\n",
    "    return nx.from_numpy_matrix(A,create_using=nx.DiGraph)"
   ]
  },
  {
   "cell_type": "code",
   "execution_count": 142,
   "metadata": {},
   "outputs": [],
   "source": [
    "class CircularFormationController:\n",
    "    \n",
    "    def __init__(self):\n",
    "       \n",
    "        # Plan\n",
    "        R = 0.8 # The radius of the circular formation\n",
    "        planning_timesteps = 1\n",
    "        max_linear_speed = 0.1\n",
    "        planning_dt = 1\n",
    "        xlim = (-np.inf,np.inf)\n",
    "        ylim = xlim\n",
    "        \n",
    "        f_dLdp = jit(jacfwd(sep_func))\n",
    "        self.MP = lambda ps,y:mutual_separation_path_planning(\\\n",
    "                                                R,ps,\\\n",
    "                                                planning_timesteps,\\\n",
    "                                                max_linear_speed,\\\n",
    "                                                planning_dt,\\\n",
    "                                                y,\\\n",
    "                                                xlim = xlim,\\\n",
    "                                                ylim = ylim,\\\n",
    "                                                 f_dLdp=f_dLdp)\n",
    "    \n",
    "        \n",
    "    def update(self,my_loc,my_meas,neighbor_loc,neighbor_meas,):\n",
    "        \n",
    "        ps = np.vstack([my_loc,neighbor_loc])\n",
    "        y = np.hstack([my_meas,neighbor_meas])\n",
    "        waypoints = self.MP(ps,y) \n",
    "            \n",
    "        return waypoints[0][0]\n",
    "        "
   ]
  },
  {
   "cell_type": "code",
   "execution_count": 143,
   "metadata": {},
   "outputs": [],
   "source": [
    "class VirtualSensor:\n",
    "    def __init__(self,C1,C0,k,b,noise_std = 0.01):\n",
    "        self._C1 = C1\n",
    "        self._C0 = C0\n",
    "        self._k = k\n",
    "        self._b = b\n",
    "        self._sig = noise_std\n",
    "        self._min_read = 1e-5\n",
    "\n",
    "        \n",
    "    def measurement(self,q,p):\n",
    "        dists=np.linalg.norm(q-p,axis=1)\n",
    "        \n",
    "        y = self._k*(dists-self._C1)**self._b\\\n",
    "        +self._C0 + np.random.randn(dists.shape[0])*self._sig\n",
    "        \n",
    "        return np.max([self._min_read*np.ones(len(y)),y],axis=0)"
   ]
  },
  {
   "cell_type": "code",
   "execution_count": 150,
   "metadata": {},
   "outputs": [
    {
     "name": "stdout",
     "output_type": "stream",
     "text": [
      "N_sen 5\n"
     ]
    },
    {
     "name": "stderr",
     "output_type": "stream",
     "text": [
      "/home/tianpeng/Desktop/fim_track/src/utils/MutualSepPathPlanning.py:58: RuntimeWarning: invalid value encountered in true_divide\n",
      "  # Prevent the ps from getting too far away by doing projection\n"
     ]
    },
    {
     "name": "stdout",
     "output_type": "stream",
     "text": [
      "N_sen 10\n",
      "N_sen 20\n",
      "N_sen 40\n"
     ]
    }
   ],
   "source": [
    "def get_adj_list(q,ps,G):\n",
    "    a_list = []\n",
    "    for i in G.nodes():\n",
    "        a_list.append([k for k in G[i]])\n",
    "    a_list = np.array(a_list)\n",
    "    \n",
    "    return a_list\n",
    "\n",
    "C1=-0.3 # Setting C1 as a negative number mitigates the blowing-up effect when the sensors are close to the source.\n",
    "C0=0\n",
    "k=1\n",
    "b=-2\n",
    "vs = VirtualSensor(C1,C0,k,b)\n",
    "\n",
    "N_iter = 100\n",
    "N_trials = 100\n",
    "\n",
    "\n",
    "N_sen = 10\n",
    "\n",
    "controller = CircularFormationController()\n",
    "comm_network_generator=lambda i,q,p:circulant(i,q,p,prev=1,post=0,undirected=True)\n",
    "# comm_network_generator=lambda i,q,p:fc_comm_network(i,q,p)\n",
    "\n",
    "for N_sen in [5,10,20,40]:\n",
    "\n",
    "# for N_sen in [40]:\n",
    "    data = {'p':[],'q':[]}\n",
    "    print('N_sen',N_sen)\n",
    "    \n",
    "    for k in range(N_trials):\n",
    "        ps = np.random.rand(N_sen,2)\n",
    "        q = np.array([6,6])\n",
    "\n",
    "\n",
    "        # Communication network\n",
    "        G = comm_network_generator(0,q,ps)\n",
    "\n",
    "        a_list = get_adj_list(q,ps,G)\n",
    "\n",
    "        p_hist = []\n",
    "        q_hist = []\n",
    "\n",
    "        for _ in range(N_iter):\n",
    "            p_hist.append(ps.copy())\n",
    "            q_hist.append(q.copy())\n",
    "        \n",
    "            y = vs.measurement(q,ps)\n",
    "\n",
    "            new_ps = np.array([controller.update(ps[i],y[i],ps[nb],y[nb]) for i,nb in enumerate(a_list)])\n",
    "\n",
    "            ps = new_ps\n",
    "            \n",
    "        \n",
    "        data['p'].append(np.array(p_hist))\n",
    "        data['q'].append(np.array(q_hist))\n",
    "\n",
    "    data['p'] = np.array(data['p'])\n",
    "    data['q'] = np.array(data['q'])\n",
    "    \n",
    "    with open('Moore-Distributed-{}Senor.pkl'.format(N_sen),'wb') as file:\n",
    "        pkl.dump(data,file)\n",
    "\n",
    "\n",
    "# for i in range(N_sen):\n",
    "#     plt.scatter(p_hist[:,i,0],p_hist[:,i,1])"
   ]
  }
 ],
 "metadata": {
  "kernelspec": {
   "display_name": "Python 3 (ipykernel)",
   "language": "python",
   "name": "python3"
  },
  "language_info": {
   "codemirror_mode": {
    "name": "ipython",
    "version": 3
   },
   "file_extension": ".py",
   "mimetype": "text/x-python",
   "name": "python",
   "nbconvert_exporter": "python",
   "pygments_lexer": "ipython3",
   "version": "3.9.5"
  }
 },
 "nbformat": 4,
 "nbformat_minor": 4
}
